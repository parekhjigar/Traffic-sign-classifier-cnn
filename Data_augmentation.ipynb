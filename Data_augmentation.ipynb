{
  "nbformat": 4,
  "nbformat_minor": 0,
  "metadata": {
    "colab": {
      "name": "Data-augmentation.ipynb",
      "provenance": [],
      "collapsed_sections": []
    },
    "kernelspec": {
      "name": "python3",
      "display_name": "Python 3"
    },
    "accelerator": "GPU"
  },
  "cells": [
    {
      "cell_type": "markdown",
      "metadata": {
        "id": "NRC5veJAIvof",
        "colab_type": "text"
      },
      "source": [
        "# Data Augmentation\n",
        "\n",
        "\n",
        "---\n",
        "## The augmented images are used for the independent evaluation for sign model\n",
        "\n",
        "---\n",
        "* The dataset used is a subset of German Traffic Sign dataset\n",
        "\n"
      ]
    },
    {
      "cell_type": "code",
      "metadata": {
        "id": "l0q84F-Y9AlZ",
        "colab_type": "code",
        "outputId": "6f62d7bd-38c8-4d13-dde0-9add925f7ed6",
        "colab": {
          "base_uri": "https://localhost:8080/",
          "height": 122
        }
      },
      "source": [
        "# Load the Drive helper and mount\n",
        "from google.colab import drive\n",
        "\n",
        "# This will prompt for authorization.\n",
        "drive.mount('/content/drive')"
      ],
      "execution_count": 0,
      "outputs": [
        {
          "output_type": "stream",
          "text": [
            "Go to this URL in a browser: https://accounts.google.com/o/oauth2/auth?client_id=947318989803-6bn6qk8qdgf4n4g3pfee6491hc0brc4i.apps.googleusercontent.com&redirect_uri=urn%3aietf%3awg%3aoauth%3a2.0%3aoob&response_type=code&scope=email%20https%3a%2f%2fwww.googleapis.com%2fauth%2fdocs.test%20https%3a%2f%2fwww.googleapis.com%2fauth%2fdrive%20https%3a%2f%2fwww.googleapis.com%2fauth%2fdrive.photos.readonly%20https%3a%2f%2fwww.googleapis.com%2fauth%2fpeopleapi.readonly\n",
            "\n",
            "Enter your authorization code:\n",
            "··········\n",
            "Mounted at /content/drive\n"
          ],
          "name": "stdout"
        }
      ]
    },
    {
      "cell_type": "code",
      "metadata": {
        "id": "yGA3Ay7p9ImN",
        "colab_type": "code",
        "outputId": "a3188f9e-6e97-4e74-8378-1c30841d0271",
        "colab": {
          "base_uri": "https://localhost:8080/",
          "height": 34
        }
      },
      "source": [
        "!ls"
      ],
      "execution_count": 0,
      "outputs": [
        {
          "output_type": "stream",
          "text": [
            "drive  sample_data\n"
          ],
          "name": "stdout"
        }
      ]
    },
    {
      "cell_type": "code",
      "metadata": {
        "id": "D7UcTniH9sOc",
        "colab_type": "code",
        "outputId": "324da0e6-8aaf-4daa-acad-c12b80965b92",
        "colab": {
          "base_uri": "https://localhost:8080/",
          "height": 187
        }
      },
      "source": [
        "import os\n",
        "from glob import glob\n",
        "from datetime import datetime\n",
        "from shutil import copyfile\n",
        " \n",
        "import imgaug as ia\n",
        "from imgaug import augmenters as iaa\n",
        "\n",
        "import imageio\n",
        " \n",
        "INPUT = '/content/drive/My Drive/ML-Assignment/dataset'\n",
        "OUTPUT = '/content/drive/My Drive/ML-Assignment/sign_aug'\n",
        "\n",
        "WHITE_LIST_FORMAT = ('png', 'jpg', 'jpeg', 'bmp', 'ppm', 'JPG')\n",
        "ITERATIONS = 10\n",
        " \n",
        "def check_dir_or_create(dir):\n",
        "    if not os.path.exists(dir):\n",
        "        os.makedirs(dir)\n",
        "        \n",
        "sometimes = lambda aug: iaa.Sometimes(0.5, aug)\n",
        " \n",
        "augmenters = [\n",
        "    # horizontal flips        \n",
        "    iaa.Fliplr(0.5),\n",
        "    # random crops\n",
        "    iaa.Crop(percent=(0, 0.1)),\n",
        "    # Strengthen or weaken the contrast in each image.\n",
        "    iaa.ContrastNormalization((0.75, 1.5)),\n",
        "    # Changes the contrast.\n",
        "    iaa.Multiply((0.8, 1.2), per_channel=0.2),\n",
        "    # Apply affine transformations to each image.\n",
        "    # Scale/zoom, translate/move, rotate and shear.\n",
        "    iaa.Affine(\n",
        "        scale={\"x\": (0.8, 1.2), \"y\": (0.8, 1.2)},\n",
        "        translate_percent={\"x\": (-0.2, 0.2), \"y\": (-0.2, 0.2)},\n",
        "        rotate=(-25, 25),\n",
        "        shear=(-8, 8)\n",
        "    )\n",
        "]\n",
        " \n",
        "seq = iaa.Sequential(augmenters, random_order=True)\n",
        " \n",
        "files = [y for x in os.walk(INPUT)\n",
        "         for y in glob(os.path.join(x[0], '*')) if os.path.isfile(y)]\n",
        "files = [f for f in files if f.endswith(WHITE_LIST_FORMAT)]\n",
        "classes = [os.path.basename(os.path.dirname(x)) for x in files]\n",
        "classes_set = set(classes)\n",
        "for _class in classes_set:\n",
        "    _dir = os.path.join(OUTPUT, _class)\n",
        "    check_dir_or_create(_dir)\n",
        " \n",
        "batches = []\n",
        "BATCH_SIZE = 50\n",
        "batches_count = len(files) // BATCH_SIZE + 1\n",
        "for i in range(batches_count):\n",
        "    batches.append(files[BATCH_SIZE * i:BATCH_SIZE * (i + 1)])\n",
        " \n",
        "images = []\n",
        "for i in range(ITERATIONS):\n",
        "    print(i, datetime.time(datetime.now()))\n",
        "    for batch in batches:\n",
        "        images = []\n",
        "        for file in batch:\n",
        "            img = imageio.imread(file)\n",
        "            images.append(img)\n",
        "        images_aug = seq.augment_images(images)\n",
        "        for file, image_aug in zip(batch, images_aug):\n",
        "            root, ext = os.path.splitext(file)\n",
        "            new_filename = root + '_{}'.format(i) + ext\n",
        "            new_path = new_filename.replace(INPUT, OUTPUT, 1)\n",
        "                        \n",
        "            imageio.imwrite(new_path, image_aug)\n",
        " \n",
        "for file in files:\n",
        "    dst = file.replace(INPUT, OUTPUT)\n",
        "    copyfile(file, dst)"
      ],
      "execution_count": 0,
      "outputs": [
        {
          "output_type": "stream",
          "text": [
            "0 17:56:59.613245\n",
            "1 18:29:02.132433\n",
            "2 18:29:44.161221\n",
            "3 18:30:29.285820\n",
            "4 18:31:14.693248\n",
            "5 18:32:01.294692\n",
            "6 18:32:49.159939\n",
            "7 18:33:38.506839\n",
            "8 18:34:27.603238\n",
            "9 18:35:15.424350\n"
          ],
          "name": "stdout"
        }
      ]
    },
    {
      "cell_type": "code",
      "metadata": {
        "id": "lx2p3TlI-uKZ",
        "colab_type": "code",
        "colab": {}
      },
      "source": [
        ""
      ],
      "execution_count": 0,
      "outputs": []
    }
  ]
}